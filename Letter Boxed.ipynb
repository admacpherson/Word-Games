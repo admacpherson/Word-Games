{
 "cells": [
  {
   "cell_type": "code",
   "execution_count": 1,
   "id": "5fa9eff4",
   "metadata": {},
   "outputs": [
    {
     "name": "stdout",
     "output_type": "stream",
     "text": [
      "True\n",
      "False\n"
     ]
    }
   ],
   "source": [
    "import re\n",
    "\n",
    "with open(\"/usr/share/dict/words\", \"r\") as file:\n",
    "    words = re.sub(r\"[^\\w]\", \" \", file.read()).split()\n",
    "\n",
    "def is_word(word):\n",
    "    return word.lower() in words"
   ]
  },
  {
   "cell_type": "code",
   "execution_count": 2,
   "id": "d12e954f",
   "metadata": {},
   "outputs": [
    {
     "name": "stdout",
     "output_type": "stream",
     "text": [
      "True\n",
      "False\n"
     ]
    }
   ],
   "source": [
    "print(is_word(\"example\"))\n",
    "print(is_word(\"nonexistentword\"))"
   ]
  },
  {
   "cell_type": "code",
   "execution_count": 18,
   "id": "1cec5ed3",
   "metadata": {},
   "outputs": [],
   "source": [
    "top = ['W', 'M', 'Y']\n",
    "left = ['S', 'L', 'R']\n",
    "bottom = ['H', 'N', 'D']\n",
    "right = ['T', 'O', 'I']\n",
    "square = [top, left, bottom, right]\n",
    "square_order = ['top', 'left', 'bottom', 'right']"
   ]
  },
  {
   "cell_type": "code",
   "execution_count": 37,
   "id": "c588b50c",
   "metadata": {},
   "outputs": [
    {
     "name": "stdout",
     "output_type": "stream",
     "text": [
      "0\n",
      "W\n",
      "M\n",
      "Y\n",
      "['W', 'M', 'Y']\n",
      "1\n",
      "S\n",
      "L\n",
      "R\n",
      "['S', 'L', 'R']\n",
      "2\n",
      "H\n",
      "N\n",
      "D\n",
      "['H', 'N', 'D']\n",
      "3\n",
      "T\n",
      "O\n",
      "I\n",
      "['T', 'O', 'I']\n"
     ]
    }
   ],
   "source": [
    "def ValidNextLetter(letter):\n",
    "    active_side = top\n",
    "    \n",
    "    for i in range(4):\n",
    "        print(i)\n",
    "        for x in square[i]:\n",
    "            print(x)\n",
    "            if x == letter:\n",
    "                active_side = square[i]\n",
    "        print(square[i])\n",
    "ValidNextLetter('D')"
   ]
  }
 ],
 "metadata": {
  "kernelspec": {
   "display_name": "Python 3 (ipykernel)",
   "language": "python",
   "name": "python3"
  },
  "language_info": {
   "codemirror_mode": {
    "name": "ipython",
    "version": 3
   },
   "file_extension": ".py",
   "mimetype": "text/x-python",
   "name": "python",
   "nbconvert_exporter": "python",
   "pygments_lexer": "ipython3",
   "version": "3.7.11"
  }
 },
 "nbformat": 4,
 "nbformat_minor": 5
}
