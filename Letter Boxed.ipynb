{
 "cells": [
  {
   "cell_type": "code",
   "execution_count": 75,
   "id": "83f3184b",
   "metadata": {},
   "outputs": [],
   "source": [
    "import re\n",
    "\n",
    "# Get dictionary from unix usr directory\n",
    "with open(\"/usr/share/dict/words\", \"r\") as file:\n",
    "    words = re.sub(r\"[^\\w]\", \" \", file.read()).split()\n",
    "\n",
    "# Function to determine if word exists in dictionary\n",
    "def is_word(word):\n",
    "    return word.lower() in words"
   ]
  },
  {
   "cell_type": "code",
   "execution_count": 76,
   "id": "3df71363",
   "metadata": {},
   "outputs": [
    {
     "name": "stdout",
     "output_type": "stream",
     "text": [
      "True\n",
      "False\n"
     ]
    }
   ],
   "source": [
    "print(is_word(\"example\"))\n",
    "print(is_word(\"nonexistentword\"))"
   ]
  },
  {
   "cell_type": "code",
   "execution_count": 68,
   "id": "823ab642",
   "metadata": {},
   "outputs": [],
   "source": [
    "# Define game board\n",
    "top = ['W', 'M', 'Y']\n",
    "left = ['S', 'L', 'R']\n",
    "bottom = ['H', 'N', 'D']\n",
    "right = ['T', 'O', 'I']\n",
    "square = [top, left, bottom, right]\n",
    "square_order = ['Top', 'Left', 'Bottom', 'Right']"
   ]
  },
  {
   "cell_type": "code",
   "execution_count": 77,
   "id": "7e984a4e",
   "metadata": {},
   "outputs": [
    {
     "name": "stdout",
     "output_type": "stream",
     "text": [
      "Bottom side\n"
     ]
    },
    {
     "data": {
      "text/plain": [
       "2"
      ]
     },
     "execution_count": 77,
     "metadata": {},
     "output_type": "execute_result"
    }
   ],
   "source": [
    "def FindSide(letter):\n",
    "    # Iterate through the game board (4 sides)\n",
    "    for i in range(4):\n",
    "        # Iterate through letters on each side\n",
    "        for x in square[i]:\n",
    "            # If letter matches, return side index\n",
    "            if x == letter:\n",
    "                print(square_order[i], \"side\")\n",
    "                return i\n",
    "FindSide('D')"
   ]
  },
  {
   "cell_type": "code",
   "execution_count": 78,
   "id": "d53fe4bc",
   "metadata": {},
   "outputs": [
    {
     "name": "stdout",
     "output_type": "stream",
     "text": [
      "Bottom side\n"
     ]
    },
    {
     "data": {
      "text/plain": [
       "['W', 'M', 'Y', 'S', 'L', 'R', 'T', 'O', 'I']"
      ]
     },
     "execution_count": 78,
     "metadata": {},
     "output_type": "execute_result"
    }
   ],
   "source": [
    "def ValidNextLetters(letter):\n",
    "    # Get index of side with current letter\n",
    "    current_side = FindSide(letter)\n",
    "    # Create a shallow copy of square (using slice)\n",
    "    valid_letters = square[:]\n",
    "    # Remove current side from valid letters\n",
    "    valid_letters.pop(current_side)\n",
    "    # Flatten using list comprehension\n",
    "    valid_letters = [letter for side in valid_letters for letter in side]\n",
    "    # Return\n",
    "    return valid_letters\n",
    "    \n",
    "ValidNextLetters('D')"
   ]
  },
  {
   "cell_type": "code",
   "execution_count": 84,
   "id": "8e11147a",
   "metadata": {},
   "outputs": [
    {
     "name": "stdout",
     "output_type": "stream",
     "text": [
      "Top side\n",
      "Left side\n",
      "1\n",
      "Top side\n",
      "Top side\n",
      "0\n",
      "True False\n"
     ]
    }
   ],
   "source": [
    "def NextLetterIsValid(current_letter, next_letter):\n",
    "    valid_next_letters = ValidNextLetters(current_letter)\n",
    "    print(FindSide(next_letter))\n",
    "    return next_letter in valid_next_letters\n",
    "\n",
    "print(NextLetterIsValid('W', 'L'),\n",
    "NextLetterIsValid('W', 'M'))"
   ]
  }
 ],
 "metadata": {
  "kernelspec": {
   "display_name": "Python 3 (ipykernel)",
   "language": "python",
   "name": "python3"
  },
  "language_info": {
   "codemirror_mode": {
    "name": "ipython",
    "version": 3
   },
   "file_extension": ".py",
   "mimetype": "text/x-python",
   "name": "python",
   "nbconvert_exporter": "python",
   "pygments_lexer": "ipython3",
   "version": "3.7.11"
  }
 },
 "nbformat": 4,
 "nbformat_minor": 5
}
