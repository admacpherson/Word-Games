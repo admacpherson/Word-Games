{
 "cells": [
  {
   "cell_type": "code",
   "execution_count": 1,
   "id": "d804a4bc",
   "metadata": {},
   "outputs": [
    {
     "name": "stdout",
     "output_type": "stream",
     "text": [
      "True\n",
      "False\n"
     ]
    }
   ],
   "source": [
    "import re\n",
    "\n",
    "with open(\"/usr/share/dict/words\", \"r\") as file:\n",
    "    words = re.sub(r\"[^\\w]\", \" \", file.read()).split()\n",
    "\n",
    "def is_word(word):\n",
    "    return word.lower() in words"
   ]
  },
  {
   "cell_type": "code",
   "execution_count": 2,
   "id": "17872451",
   "metadata": {},
   "outputs": [
    {
     "name": "stdout",
     "output_type": "stream",
     "text": [
      "True\n",
      "False\n"
     ]
    }
   ],
   "source": [
    "print(is_word(\"example\"))\n",
    "print(is_word(\"nonexistentword\"))"
   ]
  },
  {
   "cell_type": "code",
   "execution_count": 68,
   "id": "f90f5c12",
   "metadata": {},
   "outputs": [],
   "source": [
    "top = ['W', 'M', 'Y']\n",
    "left = ['S', 'L', 'R']\n",
    "bottom = ['H', 'N', 'D']\n",
    "right = ['T', 'O', 'I']\n",
    "square = [top, left, bottom, right]\n",
    "square_order = ['Top', 'Left', 'Bottom', 'Right']"
   ]
  },
  {
   "cell_type": "code",
   "execution_count": 61,
   "id": "adbc50f9",
   "metadata": {},
   "outputs": [
    {
     "name": "stdout",
     "output_type": "stream",
     "text": [
      "Bottom side\n"
     ]
    },
    {
     "data": {
      "text/plain": [
       "2"
      ]
     },
     "execution_count": 61,
     "metadata": {},
     "output_type": "execute_result"
    }
   ],
   "source": [
    "def FindSide(letter):\n",
    "    for i in range(4):\n",
    "        for x in square[i]:\n",
    "            if x == letter:\n",
    "                print(square_order[i], \"side\")\n",
    "                return i\n",
    "FindSide('D')"
   ]
  },
  {
   "cell_type": "code",
   "execution_count": 73,
   "id": "a8cb3126",
   "metadata": {},
   "outputs": [
    {
     "name": "stdout",
     "output_type": "stream",
     "text": [
      "Bottom side\n",
      "['W', 'M', 'Y', 'S', 'L', 'R', 'T', 'O', 'I']\n"
     ]
    }
   ],
   "source": [
    "def ValidNextLetters(letter):\n",
    "    # Get index of side with current letter\n",
    "    current_side = FindSide(letter)\n",
    "    # Create a shallow copy of square (using slice)\n",
    "    valid_letters = square[:]\n",
    "    # Remove current side from valid letters\n",
    "    valid_letters.pop(current_side)\n",
    "    valid_letters = [letter for side in valid_letters for letter in side]\n",
    "    print(valid_letters)\n",
    "    \n",
    "ValidNextLetters('D')"
   ]
  }
 ],
 "metadata": {
  "kernelspec": {
   "display_name": "Python 3 (ipykernel)",
   "language": "python",
   "name": "python3"
  },
  "language_info": {
   "codemirror_mode": {
    "name": "ipython",
    "version": 3
   },
   "file_extension": ".py",
   "mimetype": "text/x-python",
   "name": "python",
   "nbconvert_exporter": "python",
   "pygments_lexer": "ipython3",
   "version": "3.7.11"
  }
 },
 "nbformat": 4,
 "nbformat_minor": 5
}
