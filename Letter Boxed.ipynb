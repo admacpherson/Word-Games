{
 "cells": [
  {
   "cell_type": "code",
   "execution_count": 1,
   "id": "4d1afda3",
   "metadata": {},
   "outputs": [
    {
     "name": "stdout",
     "output_type": "stream",
     "text": [
      "True\n",
      "False\n"
     ]
    }
   ],
   "source": [
    "import re\n",
    "\n",
    "with open(\"/usr/share/dict/words\", \"r\") as file:\n",
    "    words = re.sub(r\"[^\\w]\", \" \", file.read()).split()\n",
    "\n",
    "def is_word(word):\n",
    "    return word.lower() in words"
   ]
  },
  {
   "cell_type": "code",
   "execution_count": 2,
   "id": "06a8bccf",
   "metadata": {},
   "outputs": [
    {
     "name": "stdout",
     "output_type": "stream",
     "text": [
      "True\n",
      "False\n"
     ]
    }
   ],
   "source": [
    "print(is_word(\"example\"))\n",
    "print(is_word(\"nonexistentword\"))"
   ]
  },
  {
   "cell_type": "code",
   "execution_count": null,
   "id": "0815d1c8",
   "metadata": {},
   "outputs": [],
   "source": [
    "left = ['']"
   ]
  }
 ],
 "metadata": {
  "kernelspec": {
   "display_name": "Python 3 (ipykernel)",
   "language": "python",
   "name": "python3"
  },
  "language_info": {
   "codemirror_mode": {
    "name": "ipython",
    "version": 3
   },
   "file_extension": ".py",
   "mimetype": "text/x-python",
   "name": "python",
   "nbconvert_exporter": "python",
   "pygments_lexer": "ipython3",
   "version": "3.7.11"
  }
 },
 "nbformat": 4,
 "nbformat_minor": 5
}
